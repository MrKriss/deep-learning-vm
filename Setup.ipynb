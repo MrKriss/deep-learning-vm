{
 "cells": [
  {
   "cell_type": "markdown",
   "metadata": {},
   "source": [
    "# Installation\n",
    "\n",
    "Keras can work on top of either TensorFlow or Theano. Either should work on Mac and Linux.\n",
    "\n",
    "Installing TensorFlow requires using some very specific prebuilt binaries. These can be installed with `pip` using the right url. Details of these can be found at https://www.tensorflow.org/versions/r0.11/get_started/os_setup.html\n",
    "\n",
    "However The best way I found was to use conda...\n",
    "\n",
    "## For Participants on Mac or Linux\n",
    "\n",
    "For the participants it should be a case of installing keras and its dependencies with:\n",
    "\n",
    "    conda install -c conda-forge keras\n"
   ]
  },
  {
   "cell_type": "markdown",
   "metadata": {},
   "source": [
    "## Using the VM (if on windows)"
   ]
  },
  {
   "cell_type": "markdown",
   "metadata": {
    "collapsed": true
   },
   "source": [
    "\n",
    "1. Install Vagrant from https://www.vagrantup.com/downloads.html\n",
    "2. Clone my repo with `git clone https://github.com/MrKriss/deep-learning-vm.git` and cd into it. \n",
    "3. Run `vagrant up`\n",
    "4. ssh into the box with `vagrant ssh`\n",
    "5. Start the Jupyter server with `jupyter notebook --no-browser --ip=0.0.0.0 --notebook-dir=host/` \n",
    "4. Go to http://localhost:8888/tree in your browser to see the Jupyter notebook running on the VM. Everything should be installed. \n"
   ]
  },
  {
   "cell_type": "markdown",
   "metadata": {},
   "source": [
    "If you need to install anything further, ssh into the VM with `vagrant ssh` then install with `conda` or `apt-get`."
   ]
  },
  {
   "cell_type": "markdown",
   "metadata": {},
   "source": [
    "# Configuration "
   ]
  },
  {
   "cell_type": "markdown",
   "metadata": {},
   "source": [
    "By default `keras` will try to use TensorFlow so you may need to change the configuration file located at:\n",
    "\n",
    "    ~/.keras/keras.json"
   ]
  },
  {
   "cell_type": "markdown",
   "metadata": {},
   "source": [
    "This can be done by running the following cell"
   ]
  },
  {
   "cell_type": "code",
   "execution_count": 11,
   "metadata": {
    "collapsed": false
   },
   "outputs": [
    {
     "name": "stdout",
     "output_type": "stream",
     "text": [
      "Overwriting /root/.keras/keras.json\n"
     ]
    }
   ],
   "source": [
    "%%writefile ~/.keras/keras.json\n",
    "{\n",
    "    \"epsilon\": 1e-07,\n",
    "    \"floatx\": \"float32\",\n",
    "    \"backend\": \"theano\",\n",
    "    \"image_dim_ordering\": \"th\"\n",
    "}\n"
   ]
  },
  {
   "cell_type": "code",
   "execution_count": 1,
   "metadata": {
    "collapsed": false
   },
   "outputs": [
    {
     "name": "stderr",
     "output_type": "stream",
     "text": [
      "Using Theano backend.\n"
     ]
    }
   ],
   "source": [
    "import keras"
   ]
  },
  {
   "cell_type": "code",
   "execution_count": null,
   "metadata": {
    "collapsed": true
   },
   "outputs": [],
   "source": []
  }
 ],
 "metadata": {
  "anaconda-cloud": {},
  "kernelspec": {
   "display_name": "Python [conda root]",
   "language": "python",
   "name": "conda-root-py"
  },
  "language_info": {
   "codemirror_mode": {
    "name": "ipython",
    "version": 3
   },
   "file_extension": ".py",
   "mimetype": "text/x-python",
   "name": "python",
   "nbconvert_exporter": "python",
   "pygments_lexer": "ipython3",
   "version": "3.5.2"
  }
 },
 "nbformat": 4,
 "nbformat_minor": 0
}
